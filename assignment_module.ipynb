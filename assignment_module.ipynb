{
 "cells": [
  {
   "cell_type": "code",
   "execution_count": 1,
   "id": "d78e4a74",
   "metadata": {},
   "outputs": [],
   "source": [
    "def IQR(a):\n",
    "    IQR= a.quantile(0.75)-a.quantile(0.25)\n",
    "    return IQR\n",
    "\n",
    "def Whiskers(a,IQR):\n",
    "     upper_whisker= ((a.quantile(0.75))+(IQR*1.5))\n",
    "     print(\"So, upper whisker : \",upper_whisker)\n",
    "     lower_whisker= ((a.quantile(0.25))-(IQR*1.5))\n",
    "     print(\"So, lower whisker : \",lower_whisker)\n",
    "     print(\" Min: \",a.min())\n",
    "     print(\" Max: \",a.max())\n",
    "     if(lower_whisker>a.min() and (upper_whisker<a.max())):\n",
    "         print(\"There is outliers in column as minimum and maximum value is outside of whiskers\")\n",
    "     else:\n",
    "         print(\"There is no outliers in column as minimum and maximum value is inside of whiskers\")\n",
    "\n",
    "def skewness(a):\n",
    "    if(a.skew()==0):\n",
    "        return (\"Symmetric or bell-shaped curve\")\n",
    "    elif(a.skew()<0):\n",
    "        return(\"As skewness of time is less than 0,\\nwe can see data distribution curve is negatively or left skewed.\")\n",
    "        return(\"Which means longer tail on the left side\")\n",
    "        return(\"There extreme values are too much and mean < median\\n\")\n",
    "    else:\n",
    "        return(\"As skewness of amount is greater than 0,\\n we can see data distribution curve is positively or right skewed.\\n\")\n",
    "        return(\"Which means longer tail on the right side\")\n",
    "        return(\"There extreme values are too much and median < mean\\n\")\n",
    "\n",
    "def kurtosis(a):        \n",
    "    if(a.kurt()>3):\n",
    "       return(\"As kurtosis of time is greater than 3, it is called Leptokurtosis.\\n\")\n",
    "       return(\"Here the data dispersion is also very less.. almost none.\\nNo extreme values\")\n",
    "    elif(a.kurt()<3):\n",
    "        return(\"As kurtosis of time is less than 3, it is called platykurtosis.\\n\")\n",
    "        return(\"Here the data dispersion is also very much\")\n",
    "    else:\n",
    "        return(\"As the kurtosis is 3 we can call it Mesikurtic kurtosis\")\n",
    "        "
   ]
  }
 ],
 "metadata": {
  "kernelspec": {
   "display_name": "Python 3",
   "language": "python",
   "name": "python3"
  },
  "language_info": {
   "codemirror_mode": {
    "name": "ipython",
    "version": 3
   },
   "file_extension": ".py",
   "mimetype": "text/x-python",
   "name": "python",
   "nbconvert_exporter": "python",
   "pygments_lexer": "ipython3",
   "version": "3.8.8"
  }
 },
 "nbformat": 4,
 "nbformat_minor": 5
}
