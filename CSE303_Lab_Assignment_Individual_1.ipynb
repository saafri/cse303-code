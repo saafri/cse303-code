{
 "cells": [
  {
   "cell_type": "code",
   "execution_count": 2,
   "id": "7c72de1f",
   "metadata": {},
   "outputs": [
    {
     "name": "stdout",
     "output_type": "stream",
     "text": [
      "DATASET INFORMATION : \n",
      "<class 'pandas.core.frame.DataFrame'>\n",
      "RangeIndex: 284807 entries, 0 to 284806\n",
      "Data columns (total 31 columns):\n",
      " #   Column  Non-Null Count   Dtype  \n",
      "---  ------  --------------   -----  \n",
      " 0   Time    284807 non-null  float64\n",
      " 1   V1      284807 non-null  float64\n",
      " 2   V2      284807 non-null  float64\n",
      " 3   V3      284807 non-null  float64\n",
      " 4   V4      284807 non-null  float64\n",
      " 5   V5      284807 non-null  float64\n",
      " 6   V6      284807 non-null  float64\n",
      " 7   V7      284807 non-null  float64\n",
      " 8   V8      284807 non-null  float64\n",
      " 9   V9      284807 non-null  float64\n",
      " 10  V10     284807 non-null  float64\n",
      " 11  V11     284807 non-null  float64\n",
      " 12  V12     284807 non-null  float64\n",
      " 13  V13     284807 non-null  float64\n",
      " 14  V14     284807 non-null  float64\n",
      " 15  V15     284807 non-null  float64\n",
      " 16  V16     284807 non-null  float64\n",
      " 17  V17     284807 non-null  float64\n",
      " 18  V18     284807 non-null  float64\n",
      " 19  V19     284807 non-null  float64\n",
      " 20  V20     284807 non-null  float64\n",
      " 21  V21     284807 non-null  float64\n",
      " 22  V22     284807 non-null  float64\n",
      " 23  V23     284807 non-null  float64\n",
      " 24  V24     284807 non-null  float64\n",
      " 25  V25     284807 non-null  float64\n",
      " 26  V26     284807 non-null  float64\n",
      " 27  V27     284807 non-null  float64\n",
      " 28  V28     284807 non-null  float64\n",
      " 29  Amount  284807 non-null  float64\n",
      " 30  Class   284807 non-null  int64  \n",
      "dtypes: float64(30), int64(1)\n",
      "memory usage: 67.4 MB\n"
     ]
    }
   ],
   "source": [
    "#%%\n",
    "# Student ID: 2019-1-60-173\n",
    "# Student Name: sadia afrin\n",
    "# Lab Assignment - 1\n",
    "\n",
    "\n",
    "import pandas as pd\n",
    "df = pd.read_csv('dataset_lab04.csv')\n",
    "print(\"DATASET INFORMATION : \")\n",
    "df.info()"
   ]
  },
  {
   "cell_type": "code",
   "execution_count": 3,
   "id": "86ca41b4",
   "metadata": {},
   "outputs": [
    {
     "name": "stdout",
     "output_type": "stream",
     "text": [
      "Number of rows:  284807\n",
      "Number of columns:  31\n"
     ]
    }
   ],
   "source": [
    "# 1. How many rows and columns this dataframe has? Print this information. \n",
    "def lab04_task1_2019_1_60_173():\n",
    " print ('Number of rows: ', df.shape[0])\n",
    " print ('Number of columns: ', df.shape[1])\n",
    " \n",
    "lab04_task1_2019_1_60_173()"
   ]
  },
  {
   "cell_type": "code",
   "execution_count": 4,
   "id": "57140e69",
   "metadata": {},
   "outputs": [
    {
     "name": "stdout",
     "output_type": "stream",
     "text": [
      "                Time         Amount\n",
      "count  284807.000000  284807.000000\n",
      "mean    94813.859575      88.349619\n",
      "std     47488.145955     250.120109\n",
      "min         0.000000       0.000000\n",
      "25%     54201.500000       5.600000\n",
      "50%     84692.000000      22.000000\n",
      "75%    139320.500000      77.165000\n",
      "max    172792.000000   25691.160000\n"
     ]
    }
   ],
   "source": [
    "#2. Describe (numerical summary) the time and amount column. Print this information. \n",
    "def lab04_task2_2019_1_60_173():\n",
    " print(df[['Time', 'Amount']].describe())\n",
    "\n",
    "lab04_task2_2019_1_60_173()"
   ]
  },
  {
   "cell_type": "code",
   "execution_count": 5,
   "id": "de683aaa",
   "metadata": {},
   "outputs": [
    {
     "name": "stdout",
     "output_type": "stream",
     "text": [
      "\n",
      "Measures of Time\n",
      "\n",
      "Time Mean:  94813.85957508067\n",
      "Time Standard Deviation:  47488.14595456582\n",
      "Time Variance:  2255124006.202146\n",
      "Time Lower Quartile:  54201.5\n",
      "Time Median:  84692.0\n",
      "Time Upper Quartile:  139320.5\n",
      "Time Skewness:  -0.0355676180063216\n",
      "Time Kurtosis:  -1.2935300508989838\n",
      "Time Min:  0.0\n",
      "Time Max:  172792.0\n",
      "\n",
      "Measures of Amount\n",
      "\n",
      "Amount Mean:  88.34961925087359\n",
      "Amount Standard Deviation:  250.1201092402221\n",
      "Amount Variance:  62560.069046340635\n",
      "Amount Lower Quartile:  5.6\n",
      "Amount Median:  22.0\n",
      "Amount Upper Quartile:  77.16499999999999\n",
      "Amount Skewness:  16.977724453761024\n",
      "Amount Kurtosis:  845.0926455465277\n",
      "Amount Min:  0.0\n",
      "Amount Max:  25691.16\n"
     ]
    }
   ],
   "source": [
    "#3. There are 31 columns in the dataset. Compute some statistical measures like mean, median, standard \n",
    "#deviation, variance using Pandas Function for at least two columns. Print this information.\n",
    "\n",
    "#For time and Amount column\n",
    "def lab04_task3_2019_1_60_173():\n",
    " df.columns = ['Time','V1','V2','V3','V4','V5','V6','V7','V8','V9','V10','V11','V12','V13','V14','V15','V16','V17','V18','V19','V20','V21','V22','V23','V24','V25','V26','V27','V28','Amount','Class']\n",
    " \n",
    " Time = df['Time']\n",
    " print(\"\\nMeasures of Time\\n\")\n",
    " print(\"Time Mean: \" ,Time.mean())\n",
    " print(\"Time Standard Deviation: \",Time.std())\n",
    " print(\"Time Variance: \",Time.var())\n",
    " print(\"Time Lower Quartile: \" ,Time.quantile(0.25))\n",
    " print(\"Time Median: \" ,Time.median())\n",
    " print(\"Time Upper Quartile: \" ,Time.quantile(0.75))\n",
    " print(\"Time Skewness: \" ,Time.skew())\n",
    " print(\"Time Kurtosis: \" ,Time.kurt())\n",
    " print(\"Time Min: \",Time.min())\n",
    " print(\"Time Max: \",Time.max())\n",
    " \n",
    " Amount = df['Amount']\n",
    " print(\"\\nMeasures of Amount\\n\")\n",
    " print(\"Amount Mean: \" ,Amount.mean())\n",
    " print(\"Amount Standard Deviation: \",Amount.std())\n",
    " print(\"Amount Variance: \",Amount.var())\n",
    " print(\"Amount Lower Quartile: \" ,Amount.quantile(0.25))\n",
    " print(\"Amount Median: \" ,Amount.median())\n",
    " print(\"Amount Upper Quartile: \" ,Amount.quantile(0.75))\n",
    " print(\"Amount Skewness: \" ,Amount.skew())\n",
    " print(\"Amount Kurtosis: \" ,Amount.kurt())\n",
    " print(\"Amount Min: \",Amount.min())\n",
    " print(\"Amount Max: \",Amount.max())\n",
    "\n",
    "lab04_task3_2019_1_60_173()"
   ]
  },
  {
   "cell_type": "code",
   "execution_count": 10,
   "id": "d0ba01ff",
   "metadata": {},
   "outputs": [
    {
     "data": {
      "image/png": "[encoded data removed]",
      "text/plain": [
       "<Figure size 432x288 with 1 Axes>"
      ]
     },
     "metadata": {
      "needs_background": "light"
     },
     "output_type": "display_data"
    },
    {
     "name": "stdout",
     "output_type": "stream",
     "text": [
      "Time Lower Quartile Q1:  54201.5\n",
      "Time Median Q2:  84692.0\n",
      "Time Upper Quartile Q3:  139320.5\n",
      "Time Interquartile renge(IQR) :  85119.0\n",
      "Amount Lower Quartile Q1:  5.6\n",
      "Amount Median Q2:  22.0\n",
      "Amount Upper Quartile Q3:  77.16499999999999\n",
      "Amount Interquartile renge(IQR) :  71.565\n",
      "So, upper whisker :  266999.0\n",
      "So, lower whisker :  -73477.0\n",
      " Min:  0.0\n",
      " Max:  172792.0\n",
      "There is no outliers in column as minimum and maximum value is inside of whiskers\n",
      "So, upper whisker :  184.5125\n",
      "So, lower whisker :  -101.7475\n",
      " Min:  0.0\n",
      " Max:  25691.16\n",
      "There is no outliers in column as minimum and maximum value is inside of whiskers\n"
     ]
    }
   ],
   "source": [
    "#4. Show the Box Plot of Time and Amount column. Also print the value of Q1, Median, Q3, IQR. Are \n",
    "#there any outliers? Explain your answer and print it. \n",
    "\n",
    "def lab04_task4_2019_1_60_173():\n",
    " import assignment_module as am\n",
    " import matplotlib.pyplot as plt\n",
    " df.boxplot(column = ['Time','Amount'])\n",
    " plt.title(\"Desired box plot\", color='green')\n",
    " plt.show()\n",
    " Time = df['Time']\n",
    " Amount = df['Amount']\n",
    "    \n",
    " print(\"Time Lower Quartile Q1: \" ,Time.quantile(0.25))\n",
    " print(\"Time Median Q2: \",Time.median())\n",
    " print(\"Time Upper Quartile Q3: \" ,Time.quantile(0.75))\n",
    " IQR1= am.IQR(Time)\n",
    " print(\"Time Interquartile renge(IQR) : \",IQR1)\n",
    "    \n",
    " print(\"Amount Lower Quartile Q1: \" ,Amount.quantile(0.25))\n",
    " print(\"Amount Median Q2: \" ,Amount.median())\n",
    " print(\"Amount Upper Quartile Q3: \" ,Amount.quantile(0.75))\n",
    " IQR2= am.IQR(Amount)\n",
    " print(\"Amount Interquartile renge(IQR) : \",IQR2)\n",
    " \n",
    " am.Whiskers(Time,IQR1)\n",
    " am.Whiskers(Amount,IQR2)\n",
    "\n",
    "lab04_task4_2019_1_60_173()\n"
   ]
  },
  {
   "cell_type": "code",
   "execution_count": 12,
   "id": "d618067d",
   "metadata": {},
   "outputs": [
    {
     "name": "stdout",
     "output_type": "stream",
     "text": [
      "Skewness of time:  -0.0355676180063216\n",
      "Kurtosis of time:  -1.2935300508989838\n",
      "\n",
      "\n",
      "\n",
      "\n",
      "Skewness of amount:  16.977724453761024\n",
      "Kurtosis of amount:  845.0926455465277\n"
     ]
    },
    {
     "data": {
      "image/png": "[encoded data removed]",
      "text/plain": [
       "<Figure size 432x288 with 2 Axes>"
      ]
     },
     "metadata": {
      "needs_background": "light"
     },
     "output_type": "display_data"
    }
   ],
   "source": [
    "#5. Show the Histogram of Time and Amount column. Print the value of the Skewness and Kurtosis using \n",
    "#appropriate Pandas functions. Comment on the type of the data distribution and print it.\n",
    "\n",
    "def lab04_task5_2019_1_60_173():\n",
    "    import assignment_module as am\n",
    "    df.hist(column = [\"Time\", \"Amount\"], bins = 5, color='darkblue')\n",
    "\n",
    "    Time = df['Time']\n",
    "    print(\"Skewness of time: \" , Time.skew()) #negative or left-skewed\n",
    "    print(\"Kurtosis of time: \" , Time.kurt()) ##Platykurtosis\n",
    "    print(\"\\n\")\n",
    "    am.skewness(Time)\n",
    "    am.kurtosis(Time)\n",
    " \n",
    "    print(\"\\n\")\n",
    "    Amount = df['Amount']\n",
    "    print(\"Skewness of amount: \" , Amount.skew())  # positive or right skewed\n",
    "    print(\"Kurtosis of amount: \" , Amount.kurt()) # Leptokurtosis\n",
    "    am.skewness(Amount)\n",
    "    am.kurtosis(Amount)\n",
    "    \n",
    "lab04_task5_2019_1_60_173()\n"
   ]
  },
  {
   "cell_type": "code",
   "execution_count": 13,
   "id": "22787044",
   "metadata": {},
   "outputs": [
    {
     "name": "stdout",
     "output_type": "stream",
     "text": [
      "Percentage of class value 0 : 99.827251436938\n",
      "Percentage of class value 1 : 0.1727485630620034\n"
     ]
    }
   ],
   "source": [
    "#6. Find the percentage of records with class value = 0 (Non-Fraudulent) and class value = 1 (Fraudulent).\n",
    "#Print this information. \n",
    "def lab04_task6_2019_1_60_173():\n",
    "    class0 = len(df[df['Class']==0])*100\n",
    "    class1 = len(df[df['Class']==1])*100\n",
    "\n",
    "    print(\"Percentage of class value 0 :\",class0/len(df['Class']))\n",
    "    print(\"Percentage of class value 1 :\",class1/len(df['Class']))\n",
    "\n",
    "lab04_task6_2019_1_60_173()"
   ]
  },
  {
   "cell_type": "code",
   "execution_count": 22,
   "id": "dd510ae1",
   "metadata": {},
   "outputs": [
    {
     "data": {
      "image/png": "[encoded data removed]",
      "text/plain": [
       "<Figure size 432x288 with 1 Axes>"
      ]
     },
     "metadata": {
      "needs_background": "light"
     },
     "output_type": "display_data"
    }
   ],
   "source": [
    "#7. Show the result you have got in 6 using a Histogram.\n",
    "def lab04_task7_2019_1_60_173():\n",
    "    import matplotlib.pyplot as plt\n",
    "    df_histo = df[['Class']]\n",
    "    df_histo.hist(column = ['Class'],color='g', bins = 5)\n",
    "    plt.xlabel('class', color='magenta')\n",
    "    plt.ylabel('data', color='darkblue')\n",
    "    plt.title(\"Desired histogram\", color='orange')\n",
    "    plt.show()\n",
    "lab04_task7_2019_1_60_173()"
   ]
  },
  {
   "cell_type": "code",
   "execution_count": 21,
   "id": "5a99ca69",
   "metadata": {},
   "outputs": [
    {
     "data": {
      "image/png": "[encoded data removed]",
      "text/plain": [
       "<Figure size 432x288 with 1 Axes>"
      ]
     },
     "metadata": {
      "needs_background": "light"
     },
     "output_type": "display_data"
    }
   ],
   "source": [
    "#8. Show the result you have got in 6 using a Bar chart. Create the bar chart on the percentage value, not \n",
    "#on the total number of occurrences. \n",
    "import matplotlib.pyplot as plt\n",
    "def lab04_task8_2019_1_60_173():\n",
    "    Non_Fraudulent = (df.loc[df['Class']==0])*100\n",
    "    Fraudulent = (df.loc[df['Class']==1])*100\n",
    "\n",
    "    a=Non_Fraudulent.size/df.size\n",
    "    b=Fraudulent.size/df.size\n",
    "    x=[0,1]\n",
    "    y=[a,b]\n",
    "    x1_tick = ['a','b']\n",
    "    plt.bar(x,y, tick_label= x1_tick, color='brown')\n",
    "    plt.xlabel('class', color='black')\n",
    "    plt.ylabel('percentage', color='darkblue')\n",
    "    plt.title(\"Desired bar chart\", color='orange')\n",
    "    plt.show()\n",
    "lab04_task8_2019_1_60_173()\n"
   ]
  },
  {
   "cell_type": "code",
   "execution_count": 20,
   "id": "69d1058c",
   "metadata": {},
   "outputs": [
    {
     "name": "stdout",
     "output_type": "stream",
     "text": [
      "Skewness of V23 : -5.875140340106818\n",
      "Kurtosis of V24 : 0.6188707999933452\n",
      "V23 Skewness using assign module:  As skewness of time is less than 0,\n",
      "we can see data distribution curve is negatively or left skewed.\n",
      "V24 Kurtosis using assign module:  As kurtosis of time is less than 3, it is called platykurtosis.\n",
      "\n",
      "\n",
      "\n",
      "Skewness of V28 : 11.19209119221281\n",
      "Kurtosis of V12 : 20.241869662225426\n",
      "V28 Skewness using assign module:  As skewness of amount is greater than 0,\n",
      " we can see data distribution curve is positively or right skewed.\n",
      "\n",
      "V12 Kurtosis using assign module:  As kurtosis of time is greater than 3, it is called Leptokurtosis.\n",
      "\n"
     ]
    },
    {
     "data": {
      "image/png": "[encoded data removed]",
      "text/plain": [
       "<Figure size 432x288 with 4 Axes>"
      ]
     },
     "metadata": {
      "needs_background": "light"
     },
     "output_type": "display_data"
    }
   ],
   "source": [
    "#9. Show the Histrogram (data distribution) of a few other columns (your choice) showing both positive \n",
    "#and negative skew and also leptokurtic and platykurtic data distribution. So, you should display at least \n",
    "#four Histograms. \n",
    "def lab04_task9_2019_1_60_173():\n",
    "    import assignment_module as am\n",
    "    df.hist(column = [\"V23\",\"V24\", \"V28\", \"V12\"], bins = 5)\n",
    "   #plt.title(\"Histogram for negative skewed, platykurtic kurtosis, positive skewed,leptokurtic kurtosis\", color='darkblue')\n",
    "    print(\"Skewness of V23 :\",df['V23'].skew()) # Negative or left-skewed\n",
    "    print(\"Kurtosis of V24 :\",df['V24'].kurt()) # platykurtic kurtosis\n",
    "    print(\"V23 Skewness using assign module: \", am.skewness(df['V23'])) \n",
    "    print(\"V24 Kurtosis using assign module: \", am.kurtosis(df['V24']))\n",
    "    print(\"\\n\")\n",
    "    print(\"Skewness of V28 :\",df['V28'].skew()) #positive or right skewed\n",
    "    print(\"Kurtosis of V12 :\",df['V12'].kurt()) #Leptokurtic kurtosis\n",
    "    print(\"V28 Skewness using assign module: \", am.skewness(df['V28'])) \n",
    "    print(\"V12 Kurtosis using assign module: \", am.kurtosis(df['V12']))\n",
    "    \n",
    "lab04_task9_2019_1_60_173()"
   ]
  },
  {
   "cell_type": "code",
   "execution_count": 19,
   "id": "e06a25ea",
   "metadata": {},
   "outputs": [
    {
     "name": "stdout",
     "output_type": "stream",
     "text": [
      "Time   Time    1.0\n",
      "V3     V3      1.0\n",
      "V5     V5      1.0\n",
      "V6     V6      1.0\n",
      "V7     V7      1.0\n",
      "              ... \n",
      "Class  V16     NaN\n",
      "       V17     NaN\n",
      "       V18     NaN\n",
      "       V23     NaN\n",
      "       V24     NaN\n",
      "Length: 961, dtype: float64\n",
      "Highest correlation among all attributes is: \n",
      "Amount  V7    0.397311\n",
      "dtype: float64\n"
     ]
    }
   ],
   "source": [
    "#10. Find the highest positive correlation among all attributes. While finding the correlation, use appropriate \n",
    "#code, not manually. Print this information accordingly.\n",
    "\n",
    "def lab04_task10_2019_1_60_173():\n",
    "    correlation= df.corr()\n",
    "    #print(correlation)\n",
    "    positive_corr= correlation[correlation>0]\n",
    "    st=positive_corr.unstack()\n",
    "    sort= st.sort_values(kind=\"quicksort\", ascending=False)\n",
    "    print(sort)\n",
    "    print('Highest correlation among all attributes is: ')\n",
    "    result1=sort[32:33]\n",
    "    print(result1)\n",
    "\n",
    "lab04_task10_2019_1_60_173()"
   ]
  },
  {
   "cell_type": "code",
   "execution_count": 18,
   "id": "bed90605",
   "metadata": {},
   "outputs": [
    {
     "name": "stdout",
     "output_type": "stream",
     "text": [
      "As maximum correlation value from Amount and V7 so the scatter plot between them:\n"
     ]
    },
    {
     "data": {
      "image/png": "[encoded data removed]",
      "text/plain": [
       "<Figure size 432x288 with 1 Axes>"
      ]
     },
     "metadata": {
      "needs_background": "light"
     },
     "output_type": "display_data"
    }
   ],
   "source": [
    "#11. Support your findings in Question 10 using a Scatter Plot.\n",
    "def lab04_task11_2019_1_60_173():\n",
    "    correlation= df.corr()\n",
    "    #print(correlation)\n",
    "    positive_corr= correlation[correlation>0]\n",
    "    print('As maximum correlation value from Amount and V7 so the scatter plot between them:')\n",
    "    positive_corr.plot.scatter(x='Amount',y='V7', c='magenta')\n",
    "    \n",
    "lab04_task11_2019_1_60_173()"
   ]
  },
  {
   "cell_type": "code",
   "execution_count": 17,
   "id": "15d9221b",
   "metadata": {},
   "outputs": [
    {
     "name": "stdout",
     "output_type": "stream",
     "text": [
      "V22    V6       -4.705235e-19\n",
      "V6     V22      -4.705235e-19\n",
      "V4     V28      -2.761403e-18\n",
      "V28    V4       -2.761403e-18\n",
      "V12    V7       -3.536655e-18\n",
      "                     ...     \n",
      "Class  V26                NaN\n",
      "       V27                NaN\n",
      "       V28                NaN\n",
      "       Amount             NaN\n",
      "       Class              NaN\n",
      "Length: 961, dtype: float64\n",
      "Highest negative correlation among all attributes is: \n",
      "V6  V22   -4.705235e-19\n",
      "dtype: float64\n"
     ]
    }
   ],
   "source": [
    "#12. Find the highest negative correlation among all attributes. While finding the correlation, use \n",
    "#appropriate code, not manually. Print this information accordingly.\n",
    "def lab04_task12_2019_1_60_173():\n",
    "    correlation= df.corr()\n",
    "    #print(correlation)\n",
    "    negative_corr= correlation[correlation<0]\n",
    "    st=negative_corr.unstack()\n",
    "    sort= st.sort_values(kind=\"quicksort\", ascending=False, na_position='last')\n",
    "    print(sort)\n",
    "    print('Highest negative correlation among all attributes is: ')\n",
    "    print(sort[1:2])\n",
    "\n",
    "lab04_task12_2019_1_60_173()"
   ]
  },
  {
   "cell_type": "code",
   "execution_count": 16,
   "id": "4c626904",
   "metadata": {},
   "outputs": [
    {
     "name": "stdout",
     "output_type": "stream",
     "text": [
      "As minimum correlation value from V6 and V22 so the scatter plot between them:\n"
     ]
    },
    {
     "data": {
      "image/png": "[encoded data removed]",
      "text/plain": [
       "<Figure size 432x288 with 1 Axes>"
      ]
     },
     "metadata": {
      "needs_background": "light"
     },
     "output_type": "display_data"
    }
   ],
   "source": [
    "#13. Support your findings in Question 12 using a Scatter Plot.\n",
    "def lab04_task13_2019_1_60_173():\n",
    "    correlation= df.corr()\n",
    "    #print(correlation)\n",
    "    negative_corr= correlation[correlation<0]\n",
    "    print('As minimum correlation value from V6 and V22 so the scatter plot between them:')\n",
    "    negative_corr.plot.scatter(x ='V6', y= 'V22', c='darkblue')\n",
    "    \n",
    "lab04_task13_2019_1_60_173()"
   ]
  },
  {
   "cell_type": "code",
   "execution_count": 15,
   "id": "1a8e3d54",
   "metadata": {},
   "outputs": [
    {
     "data": {
      "image/png": "[encoded data removed]",
      "text/plain": [
       "<Figure size 432x288 with 1 Axes>"
      ]
     },
     "metadata": {
      "needs_background": "light"
     },
     "output_type": "display_data"
    }
   ],
   "source": [
    "#14. Create a Box Plot of the Amount Column. \n",
    "def lab04_task14_2019_1_60_173():\n",
    "     df.boxplot(column = ['Amount'])\n",
    "     \n",
    "lab04_task14_2019_1_60_173()"
   ]
  },
  {
   "cell_type": "code",
   "execution_count": 14,
   "id": "5a844f83",
   "metadata": {},
   "outputs": [
    {
     "data": {
      "image/png": "[encoded data removed]",
      "text/plain": [
       "<Figure size 432x288 with 1 Axes>"
      ]
     },
     "metadata": {
      "needs_background": "light"
     },
     "output_type": "display_data"
    },
    {
     "name": "stdout",
     "output_type": "stream",
     "text": [
      "amountClass0 Lower Quartile Q1:  5.65\n",
      "amountClass0 Median Q2:  22.0\n",
      "amountClass0 Upper Quartile Q3:  77.05\n",
      "amountClass0 Interquartile renge(IQR) :  71.39999999999999\n",
      "amountClass1 Lower Quartile Q1:  1.0\n",
      "amountClass1 Median Q2:  9.25\n",
      "amountClass1 Upper Quartile Q3:  105.89\n",
      "amountClass1 Interquartile renge(IQR) :  104.89\n",
      "amountClass0 informations : \n",
      "\n",
      "So, upper whisker :  184.14999999999998\n",
      "So, lower whisker :  -101.44999999999999\n",
      " Min:  0.0\n",
      " Max:  25691.16\n",
      "There is no outliers in column as minimum and maximum value is inside of whiskers\n",
      "\n",
      "\n",
      "amountClass1 informations : \n",
      "\n",
      "So, upper whisker :  263.225\n",
      "So, lower whisker :  -156.335\n",
      " Min:  0.0\n",
      " Max:  2125.87\n",
      "There is no outliers in column as minimum and maximum value is inside of whiskers\n",
      "\n",
      "So from these two patterns we can see the 1st one which is for class 0 has lots of data upto the end. This is valid because in our dataset we see all rows are from class 0.\n",
      "where the second plot 2 which is forfradulent class 1 that is almost 0. So the box plot is very small. Not even near by the 1st section. So non-fradulent and fradulent collumn for amount class has huge difference\n",
      "So we can say there is almost no row for amount where class is 0 wheras almost every row for amount is of class 0.\n"
     ]
    }
   ],
   "source": [
    "#15. Now create two other box plots side by side. The first one will show the Amount column value for \n",
    "#which the class value = 0 (Non-Fraudulent) and the second one will show the Amount column value \n",
    "#for which the class value = 1 (Fraudulent). Do you find any particular pattern by just considering \n",
    "#Amount column. Explain your answer and print it accordingly.\n",
    "\n",
    "def lab04_task15_2019_1_60_173():\n",
    "    import matplotlib.pyplot as plt\n",
    "    import assignment_module as am\n",
    "    Non_Fraudulent =df[['Amount', 'Class']].query('Class == 0')\n",
    "    amountClass0 = Non_Fraudulent['Amount']\n",
    "    Fraudulent =df[['Amount', 'Class']].query('Class == 1')\n",
    "    amountClass1 = Fraudulent['Amount']\n",
    "    columns = [amountClass0, amountClass1]\n",
    "    fig,ax = plt.subplots()\n",
    "    ax.boxplot(columns)\n",
    "    plt.title(\"Desired box plot\", color='green')\n",
    "    plt.show()  \n",
    "    print(\"amountClass0 Lower Quartile Q1: \" ,amountClass0.quantile(0.25))\n",
    "    print(\"amountClass0 Median Q2: \",amountClass0.median())\n",
    "    print(\"amountClass0 Upper Quartile Q3: \" ,amountClass0.quantile(0.75))\n",
    "    IQR3= am.IQR(amountClass0)\n",
    "    print(\"amountClass0 Interquartile renge(IQR) : \",IQR3)\n",
    "    \n",
    "    print(\"amountClass1 Lower Quartile Q1: \" ,amountClass1.quantile(0.25))\n",
    "    print(\"amountClass1 Median Q2: \" ,amountClass1.median())\n",
    "    print(\"amountClass1 Upper Quartile Q3: \" ,amountClass1.quantile(0.75))\n",
    "    IQR4= am.IQR(amountClass1)\n",
    "    print(\"amountClass1 Interquartile renge(IQR) : \",IQR4)\n",
    " \n",
    "    print(\"amountClass0 informations : \\n\")\n",
    "    am.Whiskers(amountClass0,IQR3)\n",
    "    print(\"\\n\")\n",
    "    print(\"amountClass1 informations : \\n\")\n",
    "    am.Whiskers(amountClass1,IQR4)\n",
    "    print(\"\\nSo from these two patterns we can see the 1st one which is for class 0 has lots of data upto the end. This is valid because in our dataset we see all rows are from class 0.\")\n",
    "    print(\"where the second plot 2 which is forfradulent class 1 that is almost 0. So the box plot is very small. Not even near by the 1st section. So non-fradulent and fradulent collumn for amount class has huge difference\")\n",
    "    print(\"So we can say there is almost no row for amount where class is 0 wheras almost every row for amount is of class 0.\")\n",
    "lab04_task15_2019_1_60_173()"
   ]
  }
 ],
 "metadata": {
  "kernelspec": {
   "display_name": "Python 3",
   "language": "python",
   "name": "python3"
  },
  "language_info": {
   "codemirror_mode": {
    "name": "ipython",
    "version": 3
   },
   "file_extension": ".py",
   "mimetype": "text/x-python",
   "name": "python",
   "nbconvert_exporter": "python",
   "pygments_lexer": "ipython3",
   "version": "3.8.8"
  }
 },
 "nbformat": 4,
 "nbformat_minor": 5
}
