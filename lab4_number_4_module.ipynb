{
 "cells": [
  {
   "cell_type": "code",
   "execution_count": 1,
   "id": "06190c83",
   "metadata": {},
   "outputs": [],
   "source": [
    "def mean(a):\n",
    "    total = 0\n",
    "    count = 0\n",
    "    for i in a:\n",
    "        total= total+i\n",
    "        count=count+1\n",
    "    own_mean = total/count\n",
    "    return own_mean"
   ]
  }
 ],
 "metadata": {
  "kernelspec": {
   "display_name": "Python 3",
   "language": "python",
   "name": "python3"
  },
  "language_info": {
   "codemirror_mode": {
    "name": "ipython",
    "version": 3
   },
   "file_extension": ".py",
   "mimetype": "text/x-python",
   "name": "python",
   "nbconvert_exporter": "python",
   "pygments_lexer": "ipython3",
   "version": "3.8.8"
  }
 },
 "nbformat": 4,
 "nbformat_minor": 5
}
