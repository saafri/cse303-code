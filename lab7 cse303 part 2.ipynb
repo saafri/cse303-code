{
 "cells": [
  {
   "cell_type": "code",
   "execution_count": 1,
   "id": "65513a9a",
   "metadata": {},
   "outputs": [],
   "source": [
    "# prob1\n",
    "# importing the libraries\n",
    "import matplotlib.pyplot as plt\n",
    "import numpy as np\n",
    "import pandas as pd\n",
    "\n",
    "# importing the dataset\n",
    "dataset = pd.read_csv('SimpleLinearRegression.csv')\n",
    "dataset.columns = ['YearsExperience', 'Salary']\n",
    "x = dataset[['YearsExperience']]\n",
    "y = dataset[['Salary']]\n",
    "# splitting the dataset into the training set test set\n",
    "from sklearn.model_selection import train_test_split\n",
    "\n",
    "X_train, X_test, y_train, y_test = train_test_split(x, y, test_size=1 / 3, random_state=0)\n",
    "\n",
    "\n"
   ]
  },
  {
   "cell_type": "code",
   "execution_count": 2,
   "id": "60cb52b5",
   "metadata": {},
   "outputs": [
    {
     "data": {
      "text/plain": [
       "LinearRegression()"
      ]
     },
     "execution_count": 2,
     "metadata": {},
     "output_type": "execute_result"
    }
   ],
   "source": [
    "# prob2\n",
    "# fitting Simple linear regression to the training set\n",
    "from sklearn.linear_model import LinearRegression\n",
    "regression = LinearRegression()\n",
    "regression.fit(X_train, y_train)"
   ]
  },
  {
   "cell_type": "code",
   "execution_count": 3,
   "id": "be196f7d",
   "metadata": {},
   "outputs": [],
   "source": [
    "# prob3\n",
    "# predicting the values of the dataset\n",
    "y_pred = regression.predict(X_test)"
   ]
  },
  {
   "cell_type": "code",
   "execution_count": 4,
   "id": "527193e2",
   "metadata": {},
   "outputs": [
    {
     "data": {
      "image/png": "[encoded data removed]",
      "text/plain": [
       "<Figure size 432x288 with 1 Axes>"
      ]
     },
     "metadata": {
      "needs_background": "light"
     },
     "output_type": "display_data"
    }
   ],
   "source": [
    "# prob4\n",
    "# visualization the correlation\n",
    "plt.scatter(X_train, y_train, color='red')\n",
    "plt.scatter(X_train, regression.predict(X_train), color='blue')\n",
    "plt.title('Salary vs Experience (Training set')\n",
    "plt.xlabel('Years of Experience')\n",
    "plt.show()"
   ]
  },
  {
   "cell_type": "code",
   "execution_count": 5,
   "id": "fee08562",
   "metadata": {},
   "outputs": [
    {
     "name": "stdout",
     "output_type": "stream",
     "text": [
      "The model Performance for testing set\n",
      "---------------------------------------------------\n",
      "MAE is 3426.43\n",
      "MSE is 21026037.33\n",
      "R2 score is 0.97\n"
     ]
    }
   ],
   "source": [
    "# prob6\n",
    "# model evaluation\n",
    "\n",
    "from sklearn import metrics\n",
    "mae=metrics.mean_absolute_error(y_test,y_pred)\n",
    "msc=metrics.mean_squared_error(y_test,y_pred)\n",
    "r2=metrics.r2_score(y_test,y_pred)\n",
    "\n",
    "print(\"The model Performance for testing set\")\n",
    "\n",
    "print(\"---------------------------------------------------\")\n",
    "\n",
    "print('MAE is %.2f'% mae)\n",
    "print('MSE is %.2f'% msc)\n",
    "print('R2 score is %.2f'% r2)"
   ]
  }
 ],
 "metadata": {
  "kernelspec": {
   "display_name": "Python 3",
   "language": "python",
   "name": "python3"
  },
  "language_info": {
   "codemirror_mode": {
    "name": "ipython",
    "version": 3
   },
   "file_extension": ".py",
   "mimetype": "text/x-python",
   "name": "python",
   "nbconvert_exporter": "python",
   "pygments_lexer": "ipython3",
   "version": "3.8.8"
  }
 },
 "nbformat": 4,
 "nbformat_minor": 5
}
