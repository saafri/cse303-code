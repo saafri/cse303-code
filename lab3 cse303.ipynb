{
 "cells": [
  {
   "cell_type": "code",
   "execution_count": 2,
   "id": "ee1a39a1",
   "metadata": {},
   "outputs": [],
   "source": [
    "import pandas as pd"
   ]
  },
  {
   "cell_type": "code",
   "execution_count": 3,
   "id": "94c3fc55",
   "metadata": {},
   "outputs": [
    {
     "data": {
      "text/plain": [
       "0    4\n",
       "1    7\n",
       "2   -5\n",
       "3    3\n",
       "dtype: int64"
      ]
     },
     "execution_count": 3,
     "metadata": {},
     "output_type": "execute_result"
    }
   ],
   "source": [
    "obj = pd.Series([4, 7, -5, 3])\n",
    "obj"
   ]
  },
  {
   "cell_type": "code",
   "execution_count": 4,
   "id": "e36ccc18",
   "metadata": {},
   "outputs": [
    {
     "data": {
      "text/plain": [
       "0    4\n",
       "dtype: int64"
      ]
     },
     "execution_count": 4,
     "metadata": {},
     "output_type": "execute_result"
    }
   ],
   "source": [
    "obj[obj%2==0]"
   ]
  },
  {
   "cell_type": "code",
   "execution_count": 5,
   "id": "146ecccd",
   "metadata": {},
   "outputs": [
    {
     "data": {
      "text/plain": [
       "(0     9\n",
       " 1    12\n",
       " 2     0\n",
       " 3     8\n",
       " dtype: int64,\n",
       " 0     8\n",
       " 1    14\n",
       " 2   -10\n",
       " 3     6\n",
       " dtype: int64)"
      ]
     },
     "execution_count": 5,
     "metadata": {},
     "output_type": "execute_result"
    }
   ],
   "source": [
    "obj+5, obj * 2"
   ]
  },
  {
   "cell_type": "code",
   "execution_count": 6,
   "id": "2be1aee0",
   "metadata": {},
   "outputs": [
    {
     "name": "stdout",
     "output_type": "stream",
     "text": [
      "Ohio      35000\n",
      "Texas     71000\n",
      "Oregon    16000\n",
      "Utah       5000\n",
      "dtype: int64\n"
     ]
    }
   ],
   "source": [
    "sdata = {'Ohio': 35000, 'Texas': 71000, 'Oregon': 16000,\n",
    "'Utah': 5000}\n",
    "obj3 = pd.Series(sdata)\n",
    "print(obj3)"
   ]
  },
  {
   "cell_type": "code",
   "execution_count": 7,
   "id": "579b6cff",
   "metadata": {},
   "outputs": [
    {
     "name": "stdout",
     "output_type": "stream",
     "text": [
      "      name  age  cgpa  hoursStudied\n",
      "0    Alice   23   3.5            10\n",
      "1      Bob   24   3.4             6\n",
      "2  Charlie   22   3.9             8\n"
     ]
    }
   ],
   "source": [
    "list1 = [['Alice',23,3.5,10],['Bob',24,3.4,6],['Charlie',22,3.9,8]]\n",
    "df = pd.DataFrame(list1)\n",
    "df.columns = ['name','age','cgpa','hoursStudied']\n",
    "print(df.head())"
   ]
  },
  {
   "cell_type": "code",
   "execution_count": 8,
   "id": "5ba162b0",
   "metadata": {},
   "outputs": [
    {
     "name": "stdout",
     "output_type": "stream",
     "text": [
      "   id     name  age\n",
      "0   1    alice   20\n",
      "1   2      bob   25\n",
      "2   3  charlie   32\n"
     ]
    }
   ],
   "source": [
    "dict1 = {'id':[1,2,3],'name':['alice','bob','charlie'],\n",
    "'age':[20, 25, 32]}\n",
    "df1 = pd.DataFrame(dict1)\n",
    "print(df1)"
   ]
  },
  {
   "cell_type": "code",
   "execution_count": 13,
   "id": "e9e2b223",
   "metadata": {},
   "outputs": [
    {
     "name": "stdout",
     "output_type": "stream",
     "text": [
      "   id        state  population  murder_rate\n",
      "0   1      Alabama     4779736          5.7\n",
      "1   2       Alaska      710231          5.6\n",
      "2   3      Arizona     6392017          4.7\n",
      "3   4     Arkansas     2915918          5.6\n",
      "4   5   California    37253956          4.4\n",
      "5   6     Colorado     5029196          2.8\n",
      "6   7  Connecticut     3574097          2.4\n",
      "7   8     Delaware      897934          5.8\n"
     ]
    },
    {
     "data": {
      "text/plain": [
       "id             8\n",
       "state          8\n",
       "population     8\n",
       "murder_rate    8\n",
       "dtype: int64"
      ]
     },
     "execution_count": 13,
     "metadata": {},
     "output_type": "execute_result"
    }
   ],
   "source": [
    "df2 = pd.read_csv('sample_data_1.csv', header = None)\n",
    "df2.columns=['id','state','population','murder_rate']\n",
    "print(df2)\n",
    "df2.head() # displays first 5 rows\n",
    "df2.tail() # displays last 5 rows\n",
    "df2.count() # displays number of values for each column"
   ]
  },
  {
   "cell_type": "code",
   "execution_count": 14,
   "id": "af5f3822",
   "metadata": {},
   "outputs": [
    {
     "name": "stdout",
     "output_type": "stream",
     "text": [
      "1\n",
      "alice\n"
     ]
    }
   ],
   "source": [
    "print(df1.iloc[0][0])\n",
    "print(df1.loc[0]['name'])"
   ]
  },
  {
   "cell_type": "code",
   "execution_count": 17,
   "id": "c8d0fc01",
   "metadata": {},
   "outputs": [
    {
     "name": "stdout",
     "output_type": "stream",
     "text": [
      "      name  age\n",
      "1      bob   25\n",
      "2  charlie   32\n",
      "   id     name\n",
      "1   2      bob\n",
      "2   3  charlie\n"
     ]
    }
   ],
   "source": [
    "df4 = df1.loc[1:2,['name','age']]\n",
    "print(df4)\n",
    "df5 = df1.iloc[1:3,[0,1]]\n",
    "print(df5)"
   ]
  },
  {
   "cell_type": "code",
   "execution_count": 18,
   "id": "f5ad456a",
   "metadata": {},
   "outputs": [
    {
     "name": "stdout",
     "output_type": "stream",
     "text": [
      "<class 'pandas.core.frame.DataFrame'>\n",
      "     outlook   temperature   humidity   windy  play\n",
      "0      sunny            85         85   False    no\n",
      "1      sunny            80         90    True    no\n",
      "2   overcast            83         86   False   yes\n",
      "3      rainy            70         96   False   yes\n",
      "4      rainy            68         80   False   yes\n",
      "5      rainy            65         70    True    no\n",
      "6   overcast            64         65    True   yes\n",
      "7      sunny            72         95   False    no\n",
      "8      sunny            69         70   False   yes\n",
      "9      rainy            75         80   False   yes\n",
      "10     sunny            75         70    True   yes\n",
      "11  overcast            72         90    True   yes\n",
      "12  overcast            81         75   False   yes\n",
      "13     rainy            71         91    True    no\n",
      "14     rainy           100         70    True    no\n",
      "15     sunny            45         70    True    no\n",
      "    outlook   temperature   humidity   windy  play\n",
      "0     sunny            85         85   False    no\n",
      "1     sunny            80         90    True    no\n",
      "2  overcast            83         86   False   yes\n",
      "3     rainy            70         96   False   yes\n",
      "4     rainy            68         80   False   yes\n",
      "     outlook   temperature   humidity   windy  play\n",
      "11  overcast            72         90    True   yes\n",
      "12  overcast            81         75   False   yes\n",
      "13     rainy            71         91    True    no\n",
      "14     rainy           100         70    True    no\n",
      "15     sunny            45         70    True    no\n",
      "        temperature   humidity\n",
      "count     16.000000   16.00000\n",
      "mean      73.437500   80.18750\n",
      "std       11.764176   10.36802\n",
      "min       45.000000   65.00000\n",
      "25%       68.750000   70.00000\n",
      "50%       72.000000   80.00000\n",
      "75%       80.250000   90.00000\n",
      "max      100.000000   96.00000\n",
      "<class 'pandas.core.series.Series'>\n",
      "0      85\n",
      "1      80\n",
      "2      83\n",
      "3      70\n",
      "4      68\n",
      "5      65\n",
      "6      64\n",
      "7      72\n",
      "8      69\n",
      "9      75\n",
      "10     75\n",
      "11     72\n",
      "12     81\n",
      "13     71\n",
      "14    100\n",
      "15     45\n",
      "Name: temperature, dtype: int64\n",
      "1175\n",
      "    temperature  humidity\n",
      "0            85        85\n",
      "1            80        90\n",
      "2            83        86\n",
      "3            70        96\n",
      "4            68        80\n",
      "5            65        70\n",
      "6            64        65\n",
      "7            72        95\n",
      "8            69        70\n",
      "9            75        80\n",
      "10           75        70\n",
      "11           72        90\n",
      "12           81        75\n",
      "13           71        91\n",
      "14          100        70\n",
      "15           45        70\n",
      "   temperature  humidity\n",
      "0           85        85\n",
      "1           80        90\n",
      "2           83        86\n",
      "3           70        96\n",
      "4           68        80\n",
      "5           65        70\n",
      "6           64        65\n",
      "7           72        95\n",
      "8           69        70\n",
      "9           75        80\n",
      "   temperature  humidity\n",
      "0           85        85\n",
      "1           80        90\n",
      "2           83        86\n",
      "3           70        96\n",
      "4           68        80\n",
      "5           65        70\n",
      "6           64        65\n",
      "7           72        95\n",
      "8           69        70\n",
      "9           75        80\n",
      "     outlook  temperature  windy\n",
      "1      sunny           80   True\n",
      "3      rainy           70  False\n",
      "5      rainy           65   True\n",
      "7      sunny           72  False\n",
      "9      rainy           75  False\n",
      "11  overcast           72   True\n",
      "13     rainy           71   True\n",
      "15     sunny           45   True\n"
     ]
    }
   ],
   "source": [
    "df = pd.read_csv('weather.csv')\n",
    "print(type(df))\n",
    "print(df)\n",
    "print(df.head())\n",
    "print(df.tail())\n",
    "print(df.describe())\n",
    "df.columns = ['outlook','temperature','humidity','windy','play']\n",
    "t = df['temperature']\n",
    "print(type(t))\n",
    "print(t)\n",
    "sum = 0\n",
    "for value in t:\n",
    "    sum+=value\n",
    "print(sum)\n",
    "df1 = df[['temperature','humidity']]\n",
    "print(df1)\n",
    "df2 = df.loc[0:9,['temperature','humidity']]\n",
    "print(df2)\n",
    "#%%\n",
    "df3 = df.iloc[0:10,[1,2]]\n",
    "print(df3)\n",
    "df4 = df.iloc[1::2,[0,1,3]]\n",
    "print(df4)\n",
    "temperature = df[['temperature']]\n"
   ]
  },
  {
   "cell_type": "code",
   "execution_count": 19,
   "id": "8acf61f6",
   "metadata": {},
   "outputs": [
    {
     "name": "stdout",
     "output_type": "stream",
     "text": [
      "Mean:  temperature    73.4375\n",
      "dtype: float64\n",
      "Standard Deviation:  temperature    11.764176\n",
      "dtype: float64\n",
      "Variance:  temperature    138.395833\n",
      "dtype: float64\n",
      "Lower Quartile:  temperature    68.75\n",
      "Name: 0.25, dtype: float64\n",
      "Median:  temperature    72.0\n",
      "Name: 0.5, dtype: float64\n",
      "Median:  temperature    72.0\n",
      "dtype: float64\n",
      "Upper Quartile:  temperature    80.25\n",
      "Name: 0.75, dtype: float64\n",
      "Skewness:  temperature   -0.13398\n",
      "dtype: float64\n",
      "Kurtosis:  temperature    2.521107\n",
      "dtype: float64\n",
      "Min:  temperature    45\n",
      "dtype: int64\n",
      "Max:  temperature    100\n",
      "dtype: int64\n",
      "Mean:  humidity    80.1875\n",
      "dtype: float64\n",
      "Standard Deviation:  humidity    10.36802\n",
      "dtype: float64\n",
      "Variance:  humidity    107.495833\n",
      "dtype: float64\n",
      "Lower Quartile:  humidity    70.0\n",
      "Name: 0.25, dtype: float64\n",
      "Median:  humidity    80.0\n",
      "Name: 0.5, dtype: float64\n",
      "Median:  humidity    80.0\n",
      "dtype: float64\n",
      "Upper Quartile:  humidity    90.0\n",
      "Name: 0.75, dtype: float64\n",
      "Skewness:  humidity    0.118669\n",
      "dtype: float64\n",
      "Kurtosis:  humidity   -1.533119\n",
      "dtype: float64\n",
      "Min:  humidity    65\n",
      "dtype: int64\n",
      "Max:  humidity    96\n",
      "dtype: int64\n",
      "[[1, 0], [1, 1], [2, 2], [2, 3], [2, 3], [2, 4], [3, 4], [3, 5], [4, 6], [5, 7]]\n",
      "   x  y\n",
      "0  1  0\n",
      "1  1  1\n",
      "2  2  2\n",
      "3  2  3\n",
      "4  2  3\n",
      "5  2  4\n",
      "6  3  4\n",
      "7  3  5\n",
      "8  4  6\n",
      "9  5  7\n",
      "Skew:  x    0.815005\n",
      "dtype: float64\n",
      "Skew:  y    0.0\n",
      "dtype: float64\n",
      "Kurt - X:  x    0.25378\n",
      "dtype: float64\n",
      "Kurt - Y:  y   -0.53564\n",
      "dtype: float64\n"
     ]
    },
    {
     "data": {
      "text/plain": [
       "<AxesSubplot:xlabel='x', ylabel='y'>"
      ]
     },
     "execution_count": 19,
     "metadata": {},
     "output_type": "execute_result"
    },
    {
     "data": {
      "image/png": "[encoded data removed]",
      "text/plain": [
       "<Figure size 432x288 with 1 Axes>"
      ]
     },
     "metadata": {
      "needs_background": "light"
     },
     "output_type": "display_data"
    },
    {
     "data": {
      "image/png": "[encoded data removed]",
      "text/plain": [
       "<Figure size 432x288 with 1 Axes>"
      ]
     },
     "metadata": {
      "needs_background": "light"
     },
     "output_type": "display_data"
    },
    {
     "data": {
      "image/png": "[encoded data removed]",
      "text/plain": [
       "<Figure size 432x288 with 1 Axes>"
      ]
     },
     "metadata": {
      "needs_background": "light"
     },
     "output_type": "display_data"
    },
    {
     "data": {
      "image/png": "[encoded data removed]",
      "text/plain": [
       "<Figure size 432x288 with 1 Axes>"
      ]
     },
     "metadata": {
      "needs_background": "light"
     },
     "output_type": "display_data"
    },
    {
     "data": {
      "image/png": "[encoded data removed]",
      "text/plain": [
       "<Figure size 432x288 with 1 Axes>"
      ]
     },
     "metadata": {
      "needs_background": "light"
     },
     "output_type": "display_data"
    }
   ],
   "source": [
    "print(\"Mean: \" , temperature.mean())\n",
    "print(\"Standard Deviation: \", temperature.std())\n",
    "print(\"Variance: \", temperature.var())\n",
    "print(\"Lower Quartile: \" , temperature.quantile(0.25))\n",
    "print(\"Median: \", temperature.quantile(0.5))\n",
    "print(\"Median: \" , temperature.median())\n",
    "print(\"Upper Quartile: \" , temperature.quantile(0.75))\n",
    "print(\"Skewness: \" , temperature.skew())\n",
    "print(\"Kurtosis: \" , temperature.kurt())\n",
    "print(\"Min: \", temperature.min())\n",
    "print(\"Max: \", temperature.max())\n",
    "df.hist(column=['temperature'], bins = 5)\n",
    "df.hist(column='humidity', bins = 5)\n",
    "humidity = df[['humidity']]\n",
    "print(\"Mean: \" , humidity.mean())\n",
    "print(\"Standard Deviation: \", humidity.std())\n",
    "print(\"Variance: \", humidity.var())\n",
    "print(\"Lower Quartile: \" , humidity.quantile(0.25))\n",
    "print(\"Median: \", humidity.quantile(0.5))\n",
    "print(\"Median: \" , humidity.median())\n",
    "print(\"Upper Quartile: \" , humidity.quantile(0.75))\n",
    "print(\"Skewness: \" , humidity.skew())\n",
    "print(\"Kurtosis: \" , humidity.kurt())\n",
    "print(\"Min: \", humidity.min())\n",
    "print(\"Max: \", humidity.max())\n",
    "list1 = [[1,0], [1,1], [2,2], [2,3], [2,3], \n",
    "         [2,4], [3,4], [3,5], [4,6], [5,7]]\n",
    "print(list1)\n",
    "\n",
    "df_list1 = pd.DataFrame(list1, columns = ['x','y'])\n",
    "print(df_list1)\n",
    "\n",
    "df_list1.hist(column = ['x'], bins = 5)\n",
    "\n",
    "print('Skew: ', df_list1[['x']].skew())\n",
    "\n",
    "df_list1.hist(column = ['y'], bins = 8)\n",
    "\n",
    "\n",
    "print('Skew: ', df_list1[['y']].skew())\n",
    "\n",
    "print('Kurt - X: ', df_list1[['x']].kurt())\n",
    "print('Kurt - Y: ', df_list1[['y']].kurt())\n",
    "\n",
    "df_list1.plot.scatter(x = \"x\", y = \"y\")\n",
    "\n",
    "df_list1.boxplot(column = ['x', 'y'])"
   ]
  }
 ],
 "metadata": {
  "kernelspec": {
   "display_name": "Python 3",
   "language": "python",
   "name": "python3"
  },
  "language_info": {
   "codemirror_mode": {
    "name": "ipython",
    "version": 3
   },
   "file_extension": ".py",
   "mimetype": "text/x-python",
   "name": "python",
   "nbconvert_exporter": "python",
   "pygments_lexer": "ipython3",
   "version": "3.8.8"
  }
 },
 "nbformat": 4,
 "nbformat_minor": 5
}
